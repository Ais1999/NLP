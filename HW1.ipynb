
{
  "nbformat": 4,
  "nbformat_minor": 0,
  "metadata": {
    "colab": {
      "provenance": []
    },
    "kernelspec": {
      "name": "python3",
      "display_name": "Python 3"
    },
    "language_info": {
      "name": "python"
    }
  },
  "cells": [
    {
      "cell_type": "markdown",
      "source": [
        "Импортируем библиотеку для работы с регулярными выражениями"
      ],
      "metadata": {
        "id": "w3Q_7Q_AnST2"
      }
    },
    {
      "cell_type": "code",
      "execution_count": null,
      "metadata": {
        "id": "hK4L4cLQma_W"
      },
      "outputs": [],
      "source": [
        "import re"
      ]
    },
    {
      "cell_type": "markdown",
      "source": [
        "| означание символ \"или\", * говорит про предыдущий символ может встречаться 0 или более раз и при этои совпадать. Таким образом мы можем обработать любое предложение которое начинается со слов hi hello hey"
      ],
      "metadata": {
        "id": "gH-ZEdhDnT_L"
      }
    },
    {
      "cell_type": "code",
      "source": [
        "r = \"(hi|hello|hey)[ ]*([a-z]*)\""
      ],
      "metadata": {
        "id": "oaM0wPOynUSD"
      },
      "execution_count": null,
      "outputs": []
    },
    {
      "cell_type": "markdown",
      "source": [
        "re.match ищет соответствие шаблону в начале строки. передаются 3 параметра:\n",
        "* pattern - наш шаблон\n",
        "* string - строка которую проверям\n",
        "* flags = 0 - флаг управление, необязательный\n",
        "\n",
        "Мы используем готовый шаблон r и флаг re.IGNORECASE, который игнорирует регистр символов.\n",
        "\n",
        "Функция возвращает объект, если по шаблону подошло, в противном случае возвращает None"
      ],
      "metadata": {
        "id": "N6kRC_uInYPa"
      }
    },
    {
      "cell_type": "code",
      "source": [
        "re.match(r, 'Hello Rosa', flags = re.IGNORECASE)"
      ],
      "metadata": {
        "colab": {
          "base_uri": "https://localhost:8080/"
        },
        "id": "0ABMsCDLqFjr",
        "outputId": "41a55d70-c016-4a84-e4ab-2d31330c6460"
      },
      "execution_count": null,
      "outputs": [
        {
          "output_type": "execute_result",
          "data": {
            "text/plain": [
              "<re.Match object; span=(0, 10), match='Hello Rosa'>"
            ]
          },
          "metadata": {},
          "execution_count": 3
        }
      ]
    },
    {
      "cell_type": "markdown",
      "source": [
        "Самый бональный способ продимострировать, где нам это нужно"
      ],
      "metadata": {
        "id": "0qAZbeGyqM4C"
      }
    },
    {
      "cell_type": "code",
      "source": [
        "a = 1 if re.match(r, 'Hello Rosa', flags = re.IGNORECASE) else 0\n",
        "a"
      ],
      "metadata": {
        "colab": {
          "base_uri": "https://localhost:8080/"
        },
        "id": "PoQxq999nYi-",
        "outputId": "58a18e79-56cb-4bfe-9f59-48ae4e2c0434"
      },
      "execution_count": null,
      "outputs": [
        {
          "output_type": "execute_result",
          "data": {
            "text/plain": [
              "1"
            ]
          },
          "metadata": {},
          "execution_count": 4
        }
      ]
    },
    {
      "cell_type": "code",
      "source": [
        "a = 1 if re.match(r, 'Helo Rosa', flags = re.IGNORECASE) else 0\n",
        "a"
      ],
      "metadata": {
        "colab": {
          "base_uri": "https://localhost:8080/"
        },
        "id": "HkB-PnqWqTeZ",
        "outputId": "253e8b4f-1b3b-4c06-f4dc-d4644b0f9e71"
      },
      "execution_count": null,
      "outputs": [
        {
          "output_type": "execute_result",
          "data": {
            "text/plain": [
              "0"
            ]
          },
          "metadata": {},
          "execution_count": 5
        }
      ]
    },
    {
      "cell_type": "markdown",
      "source": [
        "Так как в шаблоне у нас указано, что в выражении может быть только буквенные символы, поэтому как только встречаем \",\" нам возвращается выделенная строка"
      ],
      "metadata": {
        "id": "C1noCpWLnaWO"
      }
    },
    {
      "cell_type": "code",
      "source": [
        "re.match(r, \"hi ho, hi ho, it's off to work ...\", flags= re.IGNORECASE)"
      ],
      "metadata": {
        "colab": {
          "base_uri": "https://localhost:8080/"
        },
        "id": "Qsv_ikounarB",
        "outputId": "a0e0c40b-8d8a-4f1c-f83c-9a0ec8ee1809"
      },
      "execution_count": null,
      "outputs": [
        {
          "output_type": "execute_result",
          "data": {
            "text/plain": [
              "<re.Match object; span=(0, 5), match='hi ho'>"
            ]
          },
          "metadata": {},
          "execution_count": 6
        }
      ]
    },
    {
      "cell_type": "code",
      "source": [
        "re.match(r, \"hey, what's up\", flags = re.IGNORECASE)"
      ],
      "metadata": {
        "colab": {
          "base_uri": "https://localhost:8080/"
        },
        "id": "Z6eLXKmendIA",
        "outputId": "7cb22edd-8cf9-4107-900b-e41b7c5a573a"
      },
      "execution_count": null,
      "outputs": [
        {
          "output_type": "execute_result",
          "data": {
            "text/plain": [
              "<re.Match object; span=(0, 3), match='hey'>"
            ]
          },
          "metadata": {},
          "execution_count": 7
        }
      ]
    },
    {
      "cell_type": "markdown",
      "source": [
        "Детализируем наше регулярное выражение\n",
        "\n",
        "В регулярных выражениях \n",
        "* \\[ ] - один из символов в скобках,\n",
        "а также любой символ из диапазона\n",
        "* \\[^ ] - любой символ, кроме перечисленных\n",
        "* \\* - 0 или более раз\n",
        "* ? - 0 или 1 раз\n",
        "* {m, n} - от m до n раз включительно   \n",
        "* \\s любой непробельный символ"
      ],
      "metadata": {
        "id": "uAtlq9IurJ-z"
      }
    },
    {
      "cell_type": "code",
      "source": [
        "r = r\"[^a-z]*([y]o|[h']?ello|ok|hey|(good[ ])?(morn[gin']{0, 3}|\"\\\n",
        "    r\"afternoon|even[gin']{0,3}))[\\s,;:]{1,3}([a-z]{1,20})\""
      ],
      "metadata": {
        "id": "6HejIlffrKSH"
      },
      "execution_count": null,
      "outputs": []
    },
    {
      "cell_type": "markdown",
      "source": [
        "re.compile - компилирует объект регулярного выражения.для последующего использования используем 2 параметра:\n",
        "* pattern - шаблон\n",
        "* flags = 0 - флаг управление, необязательно\n",
        "\n",
        "скомпилируем наш шаблон в переменную с флагом игнорирование регистра"
      ],
      "metadata": {
        "id": "YcCsJHqbttvm"
      }
    },
    {
      "cell_type": "code",
      "source": [
        "re_greeting = re.compile(r, flags=re.IGNORECASE)"
      ],
      "metadata": {
        "id": "w3M5AByctg5X"
      },
      "execution_count": null,
      "outputs": []
    },
    {
      "cell_type": "markdown",
      "source": [
        "Теперь нам можно легче и быстрее пользоваться функциями re"
      ],
      "metadata": {
        "id": "G1XrMQmuuZNa"
      }
    },
    {
      "cell_type": "code",
      "source": [
        "re_greeting.match('Hello Rosa')"
      ],
      "metadata": {
        "id": "ySKqz0lqtrEm",
        "colab": {
          "base_uri": "https://localhost:8080/"
        },
        "outputId": "b6956380-bef8-4b3e-e561-559b2d570f10"
      },
      "execution_count": null,
      "outputs": [
        {
          "output_type": "execute_result",
          "data": {
            "text/plain": [
              "<re.Match object; span=(0, 10), match='Hello Rosa'>"
            ]
          },
          "metadata": {},
          "execution_count": 10
        }
      ]
    },
    {
      "cell_type": "markdown",
      "source": [],
      "metadata": {
        "id": "iFBgAvp8wzmx"
      }
    },
    {
      "cell_type": "code",
      "source": [
        "re_greeting.match('Hello Rosa').groups()\n"
      ],
      "metadata": {
        "colab": {
          "base_uri": "https://localhost:8080/"
        },
        "id": "CCXfs8zyuYDk",
        "outputId": "5e87d084-61ab-4f62-bcb1-46454fd323bc"
      },
      "execution_count": null,
      "outputs": [
        {
          "output_type": "execute_result",
          "data": {
            "text/plain": [
              "('Hello', None, None, 'Rosa')"
            ]
          },
          "metadata": {},
          "execution_count": 12
        }
      ]
    },
    {
      "cell_type": "code",
      "source": [
        "re_greeting.match(\"Good Manning Rosa\")"
      ],
      "metadata": {
        "id": "C79c4ccZuzzi"
      },
      "execution_count": null,
      "outputs": []
    },
    {
      "cell_type": "code",
      "source": [
        "re_greeting.match('Good evening Rosa Parks').groups()"
      ],
      "metadata": {
        "colab": {
          "base_uri": "https://localhost:8080/"
        },
        "id": "ULRv2xIHxV3g",
        "outputId": "17df9cb9-6538-43e3-9384-4d286012844c"
      },
      "execution_count": null,
      "outputs": [
        {
          "output_type": "execute_result",
          "data": {
            "text/plain": [
              "('Good evening', 'Good ', 'evening', 'Rosa')"
            ]
          },
          "metadata": {},
          "execution_count": 14
        }
      ]
    },
    {
      "cell_type": "code",
      "source": [
        "re_greeting.match(\"Good Morn'n Rosa\")"
      ],
      "metadata": {
        "id": "jWOKNywQxWBB"
      },
      "execution_count": null,
      "outputs": []
    },
    {
      "cell_type": "code",
      "source": [
        "re_greeting.match(\"yo Rosa\")"
      ],
      "metadata": {
        "colab": {
          "base_uri": "https://localhost:8080/"
        },
        "id": "wdLZ9z_0xWDq",
        "outputId": "2bc55829-9a29-4201-d3c7-e0587b279f71"
      },
      "execution_count": null,
      "outputs": [
        {
          "output_type": "execute_result",
          "data": {
            "text/plain": [
              "<re.Match object; span=(0, 7), match='yo Rosa'>"
            ]
          },
          "metadata": {},
          "execution_count": 16
        }
      ]
    },
    {
      "cell_type": "code",
      "source": [
        "my_names = set(['rosa', 'rose', 'chatty', 'chatbot', 'bot', 'chatterbot'])\n",
        "curt_names = set(['hal', 'you', 'u'])\n",
        "greeter_name = 'Aysylu'\n",
        "match = re_greeting.match(input())\n",
        "print(re_greeting)\n",
        "if match:\n",
        "    at_name = match.groups()[-1]\n",
        "    if at_name in curt_names:\n",
        "        print(\"Good one.\")\n",
        "    elif at_name.lower() in my_names:\n",
        "        print(\"Hi, {}, How are you?\".format(greeter_name))"
      ],
      "metadata": {
        "colab": {
          "base_uri": "https://localhost:8080/"
        },
        "id": "OUTdqUxDxWGe",
        "outputId": "49ed27df-3e43-4c4b-9038-f043f6a3ce6c"
      },
      "execution_count": null,
      "outputs": [
        {
          "output_type": "stream",
          "name": "stdout",
          "text": [
            "good morn bot\n",
            "re.compile(\"[^a-z]*([y]o|[h']?ello|ok|hey|(good[ ])?(morn[gin']{0, 3}|afternoon|even[gin']{0,3}))[\\\\s,;:]{1,3}([a-z]{1,20})\", re.IGNORECASE)\n"
          ]
        }
      ]
    },
    {
      "cell_type": "code",
      "source": [],
      "metadata": {
        "id": "JVev8DxdxWJ8"
      },
      "execution_count": null,
      "outputs": []
    }
  ]
}